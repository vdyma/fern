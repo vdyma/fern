{
 "cells": [
  {
   "cell_type": "code",
   "execution_count": 1,
   "metadata": {},
   "outputs": [],
   "source": [
    "import os\n",
    "os.chdir(\"..\")"
   ]
  },
  {
   "cell_type": "code",
   "execution_count": 2,
   "metadata": {},
   "outputs": [
    {
     "name": "stdout",
     "output_type": "stream",
     "text": [
      "Using `cuda` device\n"
     ]
    }
   ],
   "source": [
    "from fern.model import Transformer\n",
    "from fern.config import FernConfig\n",
    "import torch\n",
    "from tqdm.notebook import tqdm_notebook\n",
    "from fern.tokenizer import BytePairEncoding\n",
    "\n",
    "torch.manual_seed(0)  # type: ignore\n",
    "torch.set_float32_matmul_precision(\"high\")\n",
    "device = \"cuda\" if torch.cuda.is_available() else \"cpu\"\n",
    "print(f\"Using `{device}` device\")"
   ]
  },
  {
   "cell_type": "markdown",
   "metadata": {},
   "source": [
    "## Data Loading\n",
    "\n",
    "Here we load a simple dataset (to be released) for training."
   ]
  },
  {
   "cell_type": "code",
   "execution_count": 3,
   "metadata": {},
   "outputs": [
    {
     "data": {
      "text/plain": [
       "<fern.tokenizer.BytePairEncoding at 0x7ff502b07f40>"
      ]
     },
     "execution_count": 3,
     "metadata": {},
     "output_type": "execute_result"
    }
   ],
   "source": [
    "bpe = BytePairEncoding.load(\"checkpoints/tokenizers/tes2304.tok\")\n",
    "bpe"
   ]
  },
  {
   "cell_type": "code",
   "execution_count": 20,
   "metadata": {},
   "outputs": [],
   "source": [
    "data: torch.Tensor = torch.load(\"data/books_concat_special.pt\")\n",
    "data = data.to(torch.int64).cuda()\n",
    "n = int(0.8 * len(data))\n",
    "\n",
    "train_data = data[:n]\n",
    "val_data = data[n:]"
   ]
  },
  {
   "cell_type": "markdown",
   "metadata": {},
   "source": [
    "## Define the config and important constants"
   ]
  },
  {
   "cell_type": "code",
   "execution_count": 18,
   "metadata": {},
   "outputs": [],
   "source": [
    "learning_rate = 3e-4\n",
    "max_iters = 10000\n",
    "batch_size = 32\n",
    "eval_iters = 100\n",
    "eval_interval = 1000\n",
    "\n",
    "fern_config = FernConfig(\n",
    "    d_model=384,\n",
    "    n_heads=6,\n",
    "    n_layers=6,\n",
    "    vocab_size=bpe.vocab_size,\n",
    "    block_size=512,  # 256\n",
    "    dropout=0.2,\n",
    ")\n",
    "\n",
    "def get_batch(split: str) -> tuple[torch.Tensor, torch.Tensor]:\n",
    "    data = train_data if split == \"train\" else val_data\n",
    "    ix = torch.randint(len(data) - fern_config.block_size, (batch_size,))\n",
    "    x = torch.stack([data[i : i + fern_config.block_size] for i in ix])\n",
    "    y = torch.stack([data[i + 1 : i + fern_config.block_size + 1] for i in ix])\n",
    "    return x, y\n",
    "\n",
    "@torch.no_grad()  # type: ignore\n",
    "def estimate_loss(m: torch.nn.Module) -> dict[str, torch.Tensor]:\n",
    "    out: dict[str, torch.Tensor] = {}\n",
    "    m.eval()\n",
    "    for split in [\"train\", \"val\"]:\n",
    "        losses = torch.empty(eval_iters)\n",
    "        for i in tqdm_notebook(range(eval_iters)):\n",
    "            bX, bY = get_batch(split)\n",
    "            _logits, loss = m(bX, bY)\n",
    "            losses[i] = loss\n",
    "        out[split] = losses.mean()\n",
    "    m.train()\n",
    "    return out"
   ]
  },
  {
   "cell_type": "markdown",
   "metadata": {},
   "source": [
    "## Training loop"
   ]
  },
  {
   "cell_type": "code",
   "execution_count": 12,
   "metadata": {},
   "outputs": [
    {
     "name": "stdout",
     "output_type": "stream",
     "text": [
      "Model parameters: 15.9m\n"
     ]
    }
   ],
   "source": [
    "model = Transformer(config=fern_config).to(device)\n",
    "def param_count(m: torch.nn.Module) -> str:\n",
    "    total_params = sum(torch.numel(param) for param in m.parameters(True))\n",
    "    suffixes = [\"\", \"k\", \"m\", \"b\", \"t\"]\n",
    "    i = 0\n",
    "    while total_params // 1000 != 0:\n",
    "        total_params /= 1000\n",
    "        i += 1\n",
    "    return f\"{total_params:.1f}{suffixes[i]}\"\n",
    "    \n",
    "print(f\"Model parameters: {param_count(model)}\")"
   ]
  },
  {
   "cell_type": "code",
   "execution_count": 21,
   "metadata": {},
   "outputs": [
    {
     "data": {
      "application/vnd.jupyter.widget-view+json": {
       "model_id": "ccb8f66a74244ebfacb016094859962c",
       "version_major": 2,
       "version_minor": 0
      },
      "text/plain": [
       "  0%|          | 0/10000 [00:00<?, ?it/s]"
      ]
     },
     "metadata": {},
     "output_type": "display_data"
    },
    {
     "data": {
      "application/vnd.jupyter.widget-view+json": {
       "model_id": "64f1f051e8d64cd08145a7384e90f484",
       "version_major": 2,
       "version_minor": 0
      },
      "text/plain": [
       "  0%|          | 0/100 [00:00<?, ?it/s]"
      ]
     },
     "metadata": {},
     "output_type": "display_data"
    },
    {
     "data": {
      "application/vnd.jupyter.widget-view+json": {
       "model_id": "89affe00748544d085f5350d6376568e",
       "version_major": 2,
       "version_minor": 0
      },
      "text/plain": [
       "  0%|          | 0/100 [00:00<?, ?it/s]"
      ]
     },
     "metadata": {},
     "output_type": "display_data"
    },
    {
     "name": "stdout",
     "output_type": "stream",
     "text": [
      "Estimated loss at iteration 0: {'train': tensor(7.8962), 'val': tensor(7.8972)}\n"
     ]
    },
    {
     "data": {
      "application/vnd.jupyter.widget-view+json": {
       "model_id": "1b1487f535644fd5bbd29fd09362b9cc",
       "version_major": 2,
       "version_minor": 0
      },
      "text/plain": [
       "  0%|          | 0/100 [00:00<?, ?it/s]"
      ]
     },
     "metadata": {},
     "output_type": "display_data"
    },
    {
     "data": {
      "application/vnd.jupyter.widget-view+json": {
       "model_id": "c088f10fef4f48da9cf766cc4d50d1ff",
       "version_major": 2,
       "version_minor": 0
      },
      "text/plain": [
       "  0%|          | 0/100 [00:00<?, ?it/s]"
      ]
     },
     "metadata": {},
     "output_type": "display_data"
    },
    {
     "name": "stdout",
     "output_type": "stream",
     "text": [
      "Estimated loss at iteration 1000: {'train': tensor(3.4774), 'val': tensor(3.7892)}\n"
     ]
    },
    {
     "data": {
      "application/vnd.jupyter.widget-view+json": {
       "model_id": "5ecffad0ba20436ab76583dda989b126",
       "version_major": 2,
       "version_minor": 0
      },
      "text/plain": [
       "  0%|          | 0/100 [00:00<?, ?it/s]"
      ]
     },
     "metadata": {},
     "output_type": "display_data"
    },
    {
     "data": {
      "application/vnd.jupyter.widget-view+json": {
       "model_id": "96688fbf512c433db6bd616952e91e46",
       "version_major": 2,
       "version_minor": 0
      },
      "text/plain": [
       "  0%|          | 0/100 [00:00<?, ?it/s]"
      ]
     },
     "metadata": {},
     "output_type": "display_data"
    },
    {
     "name": "stdout",
     "output_type": "stream",
     "text": [
      "Estimated loss at iteration 2000: {'train': tensor(2.9662), 'val': tensor(3.6138)}\n"
     ]
    },
    {
     "data": {
      "application/vnd.jupyter.widget-view+json": {
       "model_id": "29909bab429c4d339f77456876dafe79",
       "version_major": 2,
       "version_minor": 0
      },
      "text/plain": [
       "  0%|          | 0/100 [00:00<?, ?it/s]"
      ]
     },
     "metadata": {},
     "output_type": "display_data"
    },
    {
     "data": {
      "application/vnd.jupyter.widget-view+json": {
       "model_id": "9d344973217545be95015012e3b1f374",
       "version_major": 2,
       "version_minor": 0
      },
      "text/plain": [
       "  0%|          | 0/100 [00:00<?, ?it/s]"
      ]
     },
     "metadata": {},
     "output_type": "display_data"
    },
    {
     "name": "stdout",
     "output_type": "stream",
     "text": [
      "Estimated loss at iteration 3000: {'train': tensor(2.6168), 'val': tensor(3.6144)}\n"
     ]
    },
    {
     "data": {
      "application/vnd.jupyter.widget-view+json": {
       "model_id": "5ab6758bbcdb4b6988cf99109ed6ce48",
       "version_major": 2,
       "version_minor": 0
      },
      "text/plain": [
       "  0%|          | 0/100 [00:00<?, ?it/s]"
      ]
     },
     "metadata": {},
     "output_type": "display_data"
    },
    {
     "data": {
      "application/vnd.jupyter.widget-view+json": {
       "model_id": "5a220261d3f841d99a19be8a6092bdd2",
       "version_major": 2,
       "version_minor": 0
      },
      "text/plain": [
       "  0%|          | 0/100 [00:00<?, ?it/s]"
      ]
     },
     "metadata": {},
     "output_type": "display_data"
    },
    {
     "name": "stdout",
     "output_type": "stream",
     "text": [
      "Estimated loss at iteration 4000: {'train': tensor(2.3313), 'val': tensor(3.6722)}\n"
     ]
    },
    {
     "data": {
      "application/vnd.jupyter.widget-view+json": {
       "model_id": "544a93939ac94e91b408cc690e59f2b5",
       "version_major": 2,
       "version_minor": 0
      },
      "text/plain": [
       "  0%|          | 0/100 [00:00<?, ?it/s]"
      ]
     },
     "metadata": {},
     "output_type": "display_data"
    },
    {
     "data": {
      "application/vnd.jupyter.widget-view+json": {
       "model_id": "d46ad4073c89470dae4717f763a6520d",
       "version_major": 2,
       "version_minor": 0
      },
      "text/plain": [
       "  0%|          | 0/100 [00:00<?, ?it/s]"
      ]
     },
     "metadata": {},
     "output_type": "display_data"
    },
    {
     "name": "stdout",
     "output_type": "stream",
     "text": [
      "Estimated loss at iteration 5000: {'train': tensor(2.1032), 'val': tensor(3.7286)}\n"
     ]
    },
    {
     "data": {
      "application/vnd.jupyter.widget-view+json": {
       "model_id": "40c3b3fbc5ea476ba853b31acab84265",
       "version_major": 2,
       "version_minor": 0
      },
      "text/plain": [
       "  0%|          | 0/100 [00:00<?, ?it/s]"
      ]
     },
     "metadata": {},
     "output_type": "display_data"
    },
    {
     "data": {
      "application/vnd.jupyter.widget-view+json": {
       "model_id": "50671173cc4841a28d5a34bdc1ff5849",
       "version_major": 2,
       "version_minor": 0
      },
      "text/plain": [
       "  0%|          | 0/100 [00:00<?, ?it/s]"
      ]
     },
     "metadata": {},
     "output_type": "display_data"
    },
    {
     "name": "stdout",
     "output_type": "stream",
     "text": [
      "Estimated loss at iteration 6000: {'train': tensor(1.9141), 'val': tensor(3.8238)}\n"
     ]
    },
    {
     "data": {
      "application/vnd.jupyter.widget-view+json": {
       "model_id": "6a5c059cc332456592da90b64258c7fb",
       "version_major": 2,
       "version_minor": 0
      },
      "text/plain": [
       "  0%|          | 0/100 [00:00<?, ?it/s]"
      ]
     },
     "metadata": {},
     "output_type": "display_data"
    },
    {
     "data": {
      "application/vnd.jupyter.widget-view+json": {
       "model_id": "020ac7bf081448e4bfd66d87bf9f3840",
       "version_major": 2,
       "version_minor": 0
      },
      "text/plain": [
       "  0%|          | 0/100 [00:00<?, ?it/s]"
      ]
     },
     "metadata": {},
     "output_type": "display_data"
    },
    {
     "name": "stdout",
     "output_type": "stream",
     "text": [
      "Estimated loss at iteration 7000: {'train': tensor(1.7502), 'val': tensor(3.8606)}\n"
     ]
    },
    {
     "data": {
      "application/vnd.jupyter.widget-view+json": {
       "model_id": "82b783b17f1b49ef9c79124d603880a6",
       "version_major": 2,
       "version_minor": 0
      },
      "text/plain": [
       "  0%|          | 0/100 [00:00<?, ?it/s]"
      ]
     },
     "metadata": {},
     "output_type": "display_data"
    },
    {
     "data": {
      "application/vnd.jupyter.widget-view+json": {
       "model_id": "85fe1867e68140f79f14f87027a56589",
       "version_major": 2,
       "version_minor": 0
      },
      "text/plain": [
       "  0%|          | 0/100 [00:00<?, ?it/s]"
      ]
     },
     "metadata": {},
     "output_type": "display_data"
    },
    {
     "name": "stdout",
     "output_type": "stream",
     "text": [
      "Estimated loss at iteration 8000: {'train': tensor(1.6259), 'val': tensor(3.9153)}\n"
     ]
    },
    {
     "data": {
      "application/vnd.jupyter.widget-view+json": {
       "model_id": "f495380a01e54685926012fbcb1d8967",
       "version_major": 2,
       "version_minor": 0
      },
      "text/plain": [
       "  0%|          | 0/100 [00:00<?, ?it/s]"
      ]
     },
     "metadata": {},
     "output_type": "display_data"
    },
    {
     "data": {
      "application/vnd.jupyter.widget-view+json": {
       "model_id": "e89fde179ff44740b39724a7f49ae79b",
       "version_major": 2,
       "version_minor": 0
      },
      "text/plain": [
       "  0%|          | 0/100 [00:00<?, ?it/s]"
      ]
     },
     "metadata": {},
     "output_type": "display_data"
    },
    {
     "name": "stdout",
     "output_type": "stream",
     "text": [
      "Estimated loss at iteration 9000: {'train': tensor(1.5117), 'val': tensor(3.9778)}\n"
     ]
    },
    {
     "data": {
      "application/vnd.jupyter.widget-view+json": {
       "model_id": "25eb97e37bc943338db53ccd032ebd5f",
       "version_major": 2,
       "version_minor": 0
      },
      "text/plain": [
       "  0%|          | 0/100 [00:00<?, ?it/s]"
      ]
     },
     "metadata": {},
     "output_type": "display_data"
    },
    {
     "data": {
      "application/vnd.jupyter.widget-view+json": {
       "model_id": "8589d4de997044f3974b55a024ebdeb8",
       "version_major": 2,
       "version_minor": 0
      },
      "text/plain": [
       "  0%|          | 0/100 [00:00<?, ?it/s]"
      ]
     },
     "metadata": {},
     "output_type": "display_data"
    },
    {
     "name": "stdout",
     "output_type": "stream",
     "text": [
      "Estimated loss at iteration 10000: {'train': tensor(1.4171), 'val': tensor(4.0470)}\n"
     ]
    },
    {
     "ename": "NameError",
     "evalue": "name 'decode' is not defined",
     "output_type": "error",
     "traceback": [
      "\u001b[0;31m---------------------------------------------------------------------------\u001b[0m",
      "\u001b[0;31mNameError\u001b[0m                                 Traceback (most recent call last)",
      "Cell \u001b[0;32mIn[21], line 38\u001b[0m\n\u001b[1;32m     36\u001b[0m model\u001b[38;5;241m.\u001b[39meval()\n\u001b[1;32m     37\u001b[0m generated: \u001b[38;5;28mlist\u001b[39m[\u001b[38;5;28mint\u001b[39m] \u001b[38;5;241m=\u001b[39m model\u001b[38;5;241m.\u001b[39mget_generation(context, \u001b[38;5;241m512\u001b[39m)[\u001b[38;5;241m0\u001b[39m]\u001b[38;5;241m.\u001b[39mtolist()  \u001b[38;5;66;03m# type: ignore\u001b[39;00m\n\u001b[0;32m---> 38\u001b[0m \u001b[38;5;28mprint\u001b[39m(\u001b[43mdecode\u001b[49m(generated))\n",
      "\u001b[0;31mNameError\u001b[0m: name 'decode' is not defined"
     ]
    }
   ],
   "source": [
    "optimizer = torch.optim.AdamW(model.parameters(), lr=learning_rate)\n",
    "for iter in tqdm_notebook(range(max_iters)):\n",
    "    if iter % eval_interval == 0:\n",
    "        estimated_loss = estimate_loss(model)\n",
    "        print(f\"Estimated loss at iteration {iter}: {estimated_loss}\")\n",
    "        torch.save(  # type: ignore\n",
    "            {\n",
    "                \"epoch\": iter,\n",
    "                \"model_state_dict\": model.state_dict(),\n",
    "                \"optimizer_state_dict\": optimizer.state_dict(),\n",
    "                \"loss\": estimated_loss,\n",
    "            },\n",
    "            f\"model-{iter}.pt\",\n",
    "        )\n",
    "    x, y = get_batch(\"train\")\n",
    "    _, loss = model.forward(x, y)\n",
    "    optimizer.zero_grad()\n",
    "    if loss is None:\n",
    "        raise ValueError(\"Expected `loss` to be defined during training, got `None`\")\n",
    "    loss.backward() # type: ignore\n",
    "    optimizer.step()\n",
    "\n",
    "estimated_loss = estimate_loss(model)\n",
    "print(f\"Estimated loss at iteration {max_iters}: {estimated_loss}\")\n",
    "torch.save(  # type: ignore\n",
    "    {\n",
    "        \"epoch\": max_iters,\n",
    "        \"model_state_dict\": model.state_dict(),\n",
    "        \"optimizer_state_dict\": optimizer.state_dict(),\n",
    "        \"loss\": estimated_loss,\n",
    "    },\n",
    "    f\"model-{max_iters}.pt\",\n",
    ")"
   ]
  },
  {
   "cell_type": "code",
   "execution_count": 28,
   "metadata": {},
   "outputs": [
    {
     "name": "stdout",
     "output_type": "stream",
     "text": [
      " furname to the fleet. The following week will be making safe, so long as they are truly aloof and scour the weight of our lives. The attacks say the forest are compared to the grounds that are all about animals, each run keeps unpleasantly. Rigurt performs, internal laws often beats the most potent folk of Cyrodiil … just trying to recover the amount of unsettling sorts of dragonlings!\n",
      "With that decent succinct words, I have learned that the Maormer have a gift for the people. Word of this chaos and the risks. A—\n",
      "Though I may be there. Perhaps you can see, the laments of our past is eternal. I feel it, this is a strange and loss to go, but a curse no more. It has yet to be wary of the stars, but can also be tracked in mud. Wray for thieves, still others. It doesn’t seem obvious to all those civilizations of Tamriel.\n",
      "Traditional Tong\n",
      "A third-handed tale is one of the most famous, and has the odd age for births to retrest a spirit and to speak or secrets clearly. It gives us a characteristic of most dangerous creatures: hagravens may consider us to be good.\n",
      "A diagram\n",
      "As shows no discernible warlord, the Dark Elves, and the Dark Elves have long lived in Morrowind and Morrowind. Our people still know a peaceful place in the land as the land and are summoned for conquest. Dark Elves are scholars, we must be mustered as a very great heirs to the land of Morrowind, and the shores of Morrowind.\n",
      "Over the distant past, we are greedy and broken apart. The Dunmer are in battle, but the Second Empire decided that the Aldmeri are translated in the ether and culture of Morrowind, an object that allowed up the worship of Talos, inspired by their traditionalist Dunmer culture, Morrowind, and Black Marsh was in close conflict with interm\n"
     ]
    }
   ],
   "source": [
    "context = torch.zeros((1, 1), dtype=torch.long, device=device)\n",
    "model.eval()\n",
    "generated: list[int] = list(map(lambda x: x.item(), model.generate(context, stop_token=list(bpe.special_token_to_index.values())[-1])))  # type: ignore\n",
    "print(bpe.decode(generated))"
   ]
  },
  {
   "cell_type": "code",
   "execution_count": null,
   "metadata": {},
   "outputs": [],
   "source": []
  }
 ],
 "metadata": {
  "kernelspec": {
   "display_name": "fern",
   "language": "python",
   "name": "python3"
  },
  "language_info": {
   "codemirror_mode": {
    "name": "ipython",
    "version": 3
   },
   "file_extension": ".py",
   "mimetype": "text/x-python",
   "name": "python",
   "nbconvert_exporter": "python",
   "pygments_lexer": "ipython3",
   "version": "3.10.14"
  }
 },
 "nbformat": 4,
 "nbformat_minor": 2
}
