{
 "cells": [
  {
   "cell_type": "code",
   "execution_count": null,
   "metadata": {},
   "outputs": [],
   "source": [
    "import os\n",
    "os.chdir(\"..\")"
   ]
  },
  {
   "cell_type": "code",
   "execution_count": null,
   "metadata": {},
   "outputs": [],
   "source": [
    "from fern.model import Transformer\n",
    "from fern.config import FernConfig\n",
    "import torch\n",
    "from tqdm.notebook import tqdm_notebook\n",
    "\n",
    "torch.manual_seed(0)  # type: ignore\n",
    "torch.set_float32_matmul_precision(\"high\")\n",
    "device = \"cuda\" if torch.cuda.is_available() else \"cpu\"\n",
    "print(f\"Using `{device}` device\")"
   ]
  },
  {
   "cell_type": "markdown",
   "metadata": {},
   "source": [
    "## Data Loading\n",
    "\n",
    "Here we load a simple dataset (to be released) for training."
   ]
  },
  {
   "cell_type": "code",
   "execution_count": null,
   "metadata": {},
   "outputs": [],
   "source": [
    "with open(\"data/books_concat.txt\", \"r\") as f:\n",
    "    text = f.read()\n",
    "\n",
    "chars = sorted(list(set(text)))\n",
    "vocab_size = len(chars)\n",
    "itos = dict(enumerate(chars))\n",
    "stoi = dict((s, i) for i, s in itos.items())\n",
    "\n",
    "\n",
    "def encode(seq: str) -> list[int]:\n",
    "    return [stoi[ch] for ch in seq]\n",
    "\n",
    "\n",
    "def decode(seq: list[int]) -> str:\n",
    "    return \"\".join(itos[ix] for ix in seq)\n",
    "\n",
    "\n",
    "data = torch.tensor(encode(text), dtype=torch.long, device=device)\n",
    "n = int(0.8 * len(data))\n",
    "\n",
    "train_data = data[:n]\n",
    "val_data = data[n:]"
   ]
  },
  {
   "cell_type": "markdown",
   "metadata": {},
   "source": [
    "## Define the config and important constants"
   ]
  },
  {
   "cell_type": "code",
   "execution_count": null,
   "metadata": {},
   "outputs": [],
   "source": [
    "learning_rate = 3e-4\n",
    "max_iters = 10000\n",
    "batch_size = 32\n",
    "eval_iters = 100\n",
    "eval_interval = 1000\n",
    "\n",
    "fern_config = FernConfig(\n",
    "    d_model=384,\n",
    "    n_heads=6,\n",
    "    n_layers=6,\n",
    "    vocab_size=vocab_size,\n",
    "    block_size=512,  # 256\n",
    "    dropout=0.2,\n",
    ")\n",
    "\n",
    "def get_batch(split: str) -> tuple[torch.Tensor, torch.Tensor]:\n",
    "    data = train_data if split == \"train\" else val_data\n",
    "    ix = torch.randint(len(data) - fern_config.block_size, (batch_size,))\n",
    "    x = torch.stack([data[i : i + fern_config.block_size] for i in ix])\n",
    "    y = torch.stack([data[i + 1 : i + fern_config.block_size + 1] for i in ix])\n",
    "    return x, y\n",
    "\n",
    "@torch.no_grad()  # type: ignore\n",
    "def estimate_loss(m: torch.nn.Module) -> dict[str, torch.Tensor]:\n",
    "    out: dict[str, torch.Tensor] = {}\n",
    "    m.eval()\n",
    "    for split in [\"train\", \"val\"]:\n",
    "        losses = torch.empty(eval_iters)\n",
    "        for i in tqdm_notebook(range(eval_iters)):\n",
    "            bX, bY = get_batch(split)\n",
    "            _logits, loss = m(bX, bY)\n",
    "            losses[i] = loss.item()\n",
    "        out[split] = losses.mean()\n",
    "    m.train()\n",
    "    return out"
   ]
  },
  {
   "cell_type": "markdown",
   "metadata": {},
   "source": [
    "## Training loop"
   ]
  },
  {
   "cell_type": "code",
   "execution_count": null,
   "metadata": {},
   "outputs": [],
   "source": [
    "\n",
    "model = Transformer(fern_config).to(device)\n",
    "optimizer = torch.optim.AdamW(model.parameters(), lr=learning_rate)\n",
    "for iter in tqdm_notebook(range(max_iters)):\n",
    "    if iter % eval_interval == 0:\n",
    "        estimated_loss = estimate_loss(model)\n",
    "        print(f\"Estimated loss at iteration {iter}: {estimated_loss}\")\n",
    "        torch.save(  # type: ignore\n",
    "            {\n",
    "                \"epoch\": iter,\n",
    "                \"model_state_dict\": model.state_dict(),\n",
    "                \"optimizer_state_dict\": optimizer.state_dict(),\n",
    "                \"loss\": estimated_loss,\n",
    "            },\n",
    "            f\"model-{iter}.pt\",\n",
    "        )\n",
    "    x, y = get_batch(\"train\")\n",
    "    _, loss = model.forward(x, y)\n",
    "    optimizer.zero_grad()\n",
    "    if loss is None:\n",
    "        raise ValueError(\"Expected `loss` to be defined during training, got `None`\")\n",
    "    loss.backward() # type: ignore\n",
    "    optimizer.step()\n",
    "\n",
    "estimated_loss = estimate_loss(model)\n",
    "print(f\"Estimated loss at iteration {max_iters}: {estimated_loss}\")\n",
    "torch.save(  # type: ignore\n",
    "    {\n",
    "        \"epoch\": max_iters,\n",
    "        \"model_state_dict\": model.state_dict(),\n",
    "        \"optimizer_state_dict\": optimizer.state_dict(),\n",
    "        \"loss\": estimated_loss,\n",
    "    },\n",
    "    f\"model-{max_iters}.pt\",\n",
    ")\n",
    "\n",
    "context = torch.zeros((1, 1), dtype=torch.long, device=device)\n",
    "model.eval()\n",
    "generated: list[int] = model.get_generation(context, 512)[0].tolist()  # type: ignore\n",
    "print(decode(generated))"
   ]
  },
  {
   "cell_type": "code",
   "execution_count": null,
   "metadata": {},
   "outputs": [],
   "source": []
  }
 ],
 "metadata": {
  "kernelspec": {
   "display_name": "fern",
   "language": "python",
   "name": "python3"
  },
  "language_info": {
   "codemirror_mode": {
    "name": "ipython",
    "version": 3
   },
   "file_extension": ".py",
   "mimetype": "text/x-python",
   "name": "python",
   "nbconvert_exporter": "python",
   "pygments_lexer": "ipython3",
   "version": "3.10.14"
  }
 },
 "nbformat": 4,
 "nbformat_minor": 2
}
