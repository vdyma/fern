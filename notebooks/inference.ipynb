{
 "cells": [
  {
   "cell_type": "code",
   "execution_count": 1,
   "metadata": {},
   "outputs": [],
   "source": [
    "import os\n",
    "\n",
    "os.chdir(\"..\")"
   ]
  },
  {
   "cell_type": "code",
   "execution_count": 2,
   "metadata": {},
   "outputs": [],
   "source": [
    "from fern.model import Transformer\n",
    "from fern.config import FernConfig\n",
    "from fern.tokenizer import BytePairEncoding\n",
    "import torch\n",
    "\n",
    "device = \"cuda\""
   ]
  },
  {
   "cell_type": "code",
   "execution_count": 3,
   "metadata": {},
   "outputs": [
    {
     "name": "stdout",
     "output_type": "stream",
     "text": [
      "Model loaded!\n"
     ]
    }
   ],
   "source": [
    "bpe = BytePairEncoding.load(\"checkpoints/tokenizers/tes2304.tok\")\n",
    "fern_config = FernConfig(\n",
    "    d_model=128,  #384\n",
    "    n_heads=8,\n",
    "    n_layers=32,\n",
    "    vocab_size=bpe.vocab_size,\n",
    "    block_size=512,  # 256\n",
    "    dropout=0.2,\n",
    ")\n",
    "\n",
    "\n",
    "model = Transformer(fern_config).to(device)\n",
    "model.load_state_dict(\n",
    "    torch.load(\"./checkpoints/model.pt\")[\"model_state_dict\"], assign=True\n",
    ")\n",
    "opt_model: Transformer = torch.compile(model) # type: ignore\n",
    "opt_model.eval()\n",
    "print(\"Model loaded!\")"
   ]
  },
  {
   "cell_type": "code",
   "execution_count": 4,
   "metadata": {},
   "outputs": [
    {
     "name": "stdout",
     "output_type": "stream",
     "text": [
      "Category: Fiction & Narrative\n",
      "Title: \"The Song of Uncle Sweetshare\"\n",
      "Author: Xel\n",
      "\n",
      "A Morothi’s lessons covered somewhat shot apart with Welen, keeping the expanse at other activities with Topal Esmoan the Vision. Relicmaster Glenadir\n",
      "“He. You’re both asking the use of the Alfiq in town since you kill me,” said his idea.\n",
      "“That’s an important one ever gave you any school in a few days,” Vale said. “The answer will be so fair, but when you would recognize the true gods of Elden Runcibae—you too big and or more dangerous than the majestic Penitent. Already it was because they lost anyone else. I merely age believe that they would not help me mourn the Pzinch Queen and the Morag Tong have the least. And without him to whom I wish to do it.”\n",
      "The Niben, Tharien strayed highrs, a ball of fury that was the first account of Morrowind. And the Provisional Horsemen had not been clutched over the duty of fortitude for their own in retreating boots.\n",
      "After two hours of comfort, Vale thought to meet with her daughter, Pariffiner Svartr out of Vanus Galerion at eighteen tumblers. In any state, yes? I suppose my study in this disposal work between the magnificent eventuality of the individual’s approval from Oblivion elements, even when it included me. And in that way, it is good for food. And, even more frequently, this place also turns more painful than manners on the 2nd stone.<|endoftext|>"
     ]
    }
   ],
   "source": [
    "prompt = \"\"\"Category: Fiction & Narrative\n",
    "Title: \"The Song of Uncle Sweetshare\"\n",
    "Author: \"\"\"\n",
    "\n",
    "context = torch.tensor([bpe.encode(prompt)], dtype=torch.long, device=device)\n",
    "print(prompt, end=\"\")\n",
    "for tok in opt_model.generate(context, stop_token=list(bpe.special_token_to_index.values())[-1]):\n",
    "    print(bpe.decode(tok[0].tolist()), end=\"\")"
   ]
  },
  {
   "cell_type": "code",
   "execution_count": 6,
   "metadata": {},
   "outputs": [
    {
     "name": "stdout",
     "output_type": "stream",
     "text": [
      "Category: Fiction & Narrative\n",
      "Title: \"The Song of Uncle Sweetshare\"\n",
      "Author: Xiomara\n",
      "\n",
      "The monkeeker was the amount of revolves of Galen sent into Morrowind from Varen’s Hall and established his commandship and official threats in Tamriel. In 1E 346, he was assigned to Cyrodiil in his heart, though Nill banner and his accession to the Empire.\n",
      "The Potentate took the Redguard Dungeons to find his marsh ships in Valenwood, but he crossed out and tried all his heroes with him, and made his husband at his ever-growing Emperor. He continued to experience the guards in hand and decision the island, and over time they built to survive of Gnaar Mornard and put it out. Cyrodilic and orcs were built, rather than as clouds and trusted manor chitin. He was glad that he could see a blocking weapon.\n",
      "Gideon clearly, Akatosh’s men brushed, and his wounds confirmed how Solitude had so little reserved for a prized Dunmer who didn’t like to keep the actual moonlight in the decades of slavery.<|endoftext|>"
     ]
    }
   ],
   "source": [
    "generation = opt_model.get_generation(context, stop_token=list(bpe.special_token_to_index.values())[-1]).tolist()\n",
    "print(bpe.decode(generation), end=\"\")"
   ]
  },
  {
   "cell_type": "code",
   "execution_count": null,
   "metadata": {},
   "outputs": [],
   "source": []
  }
 ],
 "metadata": {
  "kernelspec": {
   "display_name": "fern",
   "language": "python",
   "name": "python3"
  },
  "language_info": {
   "codemirror_mode": {
    "name": "ipython",
    "version": 3
   },
   "file_extension": ".py",
   "mimetype": "text/x-python",
   "name": "python",
   "nbconvert_exporter": "python",
   "pygments_lexer": "ipython3",
   "version": "3.10.14"
  }
 },
 "nbformat": 4,
 "nbformat_minor": 2
}
