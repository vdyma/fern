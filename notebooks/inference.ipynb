{
 "cells": [
  {
   "cell_type": "code",
   "execution_count": 1,
   "metadata": {},
   "outputs": [],
   "source": [
    "import os\n",
    "\n",
    "os.chdir(\"..\")"
   ]
  },
  {
   "cell_type": "code",
   "execution_count": 2,
   "metadata": {},
   "outputs": [],
   "source": [
    "from fern.model import Transformer\n",
    "from fern.config import FernConfig\n",
    "from fern.tokenizer import BytePairEncoding\n",
    "import torch\n",
    "\n",
    "device = \"cuda\""
   ]
  },
  {
   "cell_type": "code",
   "execution_count": 3,
   "metadata": {},
   "outputs": [
    {
     "name": "stdout",
     "output_type": "stream",
     "text": [
      "Model loaded!\n"
     ]
    }
   ],
   "source": [
    "bpe = BytePairEncoding.load(\"checkpoints/tokenizers/tes2304.tok\")\n",
    "fern_config = FernConfig(\n",
    "    d_model=384,\n",
    "    n_heads=6,\n",
    "    n_layers=6,\n",
    "    vocab_size=bpe.vocab_size,\n",
    "    block_size=512,  # 256\n",
    "    dropout=0.2,\n",
    ")\n",
    "\n",
    "\n",
    "model = Transformer(fern_config).to(device)\n",
    "model.load_state_dict(\n",
    "    torch.load(\"./checkpoints/model.pt\")[\"model_state_dict\"], assign=True\n",
    ")\n",
    "opt_model: Transformer = torch.compile(model) # type: ignore\n",
    "opt_model.eval()\n",
    "print(\"Model loaded!\")"
   ]
  },
  {
   "cell_type": "code",
   "execution_count": 4,
   "metadata": {},
   "outputs": [
    {
     "name": "stdout",
     "output_type": "stream",
     "text": [
      "Category: Fiction & Narrative\n",
      "Title: \"The Song of Uncle Sweetshare\"\n",
      "Author: veyor Bangkorai\n",
      "\n",
      "My mother tended the bathing from the scene, I heard that happened in the night. I scratched my eyes. I learned from watch and saw the chawning her fathers? That’s whenever I’ve seen myself and the bottom of how I felt nothing like a weaver, and my hand grief-sized and beholden that by the crowd can be couldn’t punish a rich bed and when I was so dark.\n",
      "“Time, it was all well. I needed the murder of birds in my blood. I burst into the courtyard. A wench of a mountain, and said ice, “I am afraid my undeserring.” I tried to shake this with my savage wate and gave me tack, but I was probably one and I decided I had but proud tool in his voice.\n",
      "“Please,” I said at last. “Surely the letter for days and bad meal.”\n",
      "“But my life-sightness…”\n",
      "Sunbird floating nearby and ears were very tall, but they parted, and the babe was standing with nothing but scratches on a century of fallen yards … from a few like that. Time and everything, fascinated like a dragons.\n",
      "“What do you mean?” I finally asked.\n",
      "“Such it was a good man. I wouldn’t die before, they have a message of being lying and as I’m not proper as I’m done. Just a little while, but I’m very dying.\n",
      "“Ah, it’s all right?” I asked.\n",
      "“Are you related to a portraitor’s good looks? I suppose I’m going to wait this particular job with you. Master Tharienna.\n",
      "“Hello, then, you can believe my friend, is Milady. How do you want to see? Perhaps you want suffering from Skjol!<|endoftext|>"
     ]
    }
   ],
   "source": [
    "prompt = \"\"\"Category: Fiction & Narrative\n",
    "Title: \"The Song of Uncle Sweetshare\"\n",
    "Author: \"\"\"\n",
    "\n",
    "context = torch.tensor([bpe.encode(prompt)], dtype=torch.long, device=device)\n",
    "print(prompt, end=\"\")\n",
    "for tok in opt_model.generate(context, stop_token=list(bpe.special_token_to_index.values())[-1]):\n",
    "    print(bpe.decode(tok[0].tolist()), end=\"\")"
   ]
  },
  {
   "cell_type": "code",
   "execution_count": 11,
   "metadata": {},
   "outputs": [
    {
     "name": "stdout",
     "output_type": "stream",
     "text": [
      "Category: Fiction & Narrative\n",
      "Title: \"The Song of Uncle Sweetshare\"\n",
      "Author: Xandier Edette\n",
      "\n",
      "In a few months there, I was afraid. The tale seemed so tired when the story caught me now. I don’t remember how I was willing to bring it down, much to my cave. Moo along when he turned back, the young boy was called in the Wrothgar. In an instant, I returned to the Scholarium from a tree by wine, where an old man was like dead skin of the covered was rising. He cried out, roaring wind, and accompanied by the other Nords.\n",
      "So it was not the good old master. It was a slight stairs to my throat in, they learned while they were clashing and there was work to play. It had been a nice deal that I died, but only in Gnisis.\n",
      "According to my travels, I believed most of all. Indeed, this time I never met Mathrys have pruned to me when I had no harm to memory of the rules and not within. Were these instructionsance, let us consider that Sheogorath’s grief and the rest of you, my ghastly eyes gave the paneless soul. Contrary findings that I’ve guessed the greedy tower that happened to this torchl<|endoftext|>"
     ]
    }
   ],
   "source": [
    "generation = opt_model.get_generation(context, stop_token=list(bpe.special_token_to_index.values())[-1]).tolist()\n",
    "print(bpe.decode(generation), end=\"\")"
   ]
  },
  {
   "cell_type": "code",
   "execution_count": null,
   "metadata": {},
   "outputs": [],
   "source": []
  }
 ],
 "metadata": {
  "kernelspec": {
   "display_name": "fern",
   "language": "python",
   "name": "python3"
  },
  "language_info": {
   "codemirror_mode": {
    "name": "ipython",
    "version": 3
   },
   "file_extension": ".py",
   "mimetype": "text/x-python",
   "name": "python",
   "nbconvert_exporter": "python",
   "pygments_lexer": "ipython3",
   "version": "3.10.14"
  }
 },
 "nbformat": 4,
 "nbformat_minor": 2
}
