{
 "cells": [
  {
   "cell_type": "code",
   "execution_count": 1,
   "metadata": {},
   "outputs": [],
   "source": [
    "import os\n",
    "\n",
    "os.chdir(\"..\")"
   ]
  },
  {
   "cell_type": "code",
   "execution_count": 2,
   "metadata": {},
   "outputs": [],
   "source": [
    "from fern.model import Transformer, encode, decode, fern_config\n",
    "import torch\n",
    "\n",
    "device = \"cuda\""
   ]
  },
  {
   "cell_type": "code",
   "execution_count": 3,
   "metadata": {},
   "outputs": [
    {
     "name": "stdout",
     "output_type": "stream",
     "text": [
      "Model loaded!\n"
     ]
    }
   ],
   "source": [
    "model = Transformer(fern_config).to(device)\n",
    "model.load_state_dict(\n",
    "    torch.load(\"./checkpoints/model.pt\")[\"model_state_dict\"], assign=True\n",
    ")\n",
    "opt_model = torch.compile(model)\n",
    "opt_model.eval()\n",
    "print(\"Model loaded!\")"
   ]
  },
  {
   "cell_type": "code",
   "execution_count": 4,
   "metadata": {},
   "outputs": [
    {
     "name": "stdout",
     "output_type": "stream",
     "text": [
      "Category: Fiction & Narrative\n",
      "Title: \"The Song of Uncle Sweetshare\"\n",
      "Author: Anonymous\n",
      "\n",
      "(An Auridon who esteems to be the Potentate Versidue-Shaie, the Sisters are ten years of the battlemage’s work and advisor to leave his strength over the Red Mountain from his truth.)\n",
      "\n",
      "\n",
      "\n",
      "\n",
      "Category: Fiction & Narrative\n",
      "Title: \"I brought it into the Celp, and I returned to Baynarah. I laughed about the inside was twisted, and minting it only only a single glance—then could step into battle, when I thought that the capmire and followers were in midst and vengeance and children were merely very diffi"
     ]
    }
   ],
   "source": [
    "prompt = \"\"\"Category: Fiction & Narrative\n",
    "Title: \"The Song of Uncle Sweetshare\"\n",
    "Author: \"\"\"\n",
    "\n",
    "context = torch.tensor([encode(prompt)], dtype=torch.long, device=device)\n",
    "print(prompt, end=\"\")\n",
    "for tok in opt_model.generate(context, 512):\n",
    "    print(decode(tok[0].tolist()), end=\"\")"
   ]
  },
  {
   "cell_type": "code",
   "execution_count": 5,
   "metadata": {},
   "outputs": [
    {
     "name": "stdout",
     "output_type": "stream",
     "text": [
      "Category: Fiction & Narrative\n",
      "Title: \"The Song of Uncle Sweetshare\"\n",
      "Author: Anonymous\n",
      "\n",
      "After a few days of years, the clan could provide each history of having the room, a great beagutiful Dark Elf week. The city stepped each sand at the battlefield, but our household lay mail into many worlds and communications would not be born.\n",
      "We sought out of our weakness in 4E 185 disc. General Bucco’s cobbler constructs were gladly the similar figures and well-settled towers they had guessed. Though the footbears were surrounded by spike-wings, they were ba. Some of these stories built us in"
     ]
    }
   ],
   "source": [
    "generation = opt_model.get_generation(context, 512)[0].tolist()\n",
    "print(decode(generation), end=\"\")"
   ]
  },
  {
   "cell_type": "code",
   "execution_count": null,
   "metadata": {},
   "outputs": [],
   "source": []
  }
 ],
 "metadata": {
  "kernelspec": {
   "display_name": "fern",
   "language": "python",
   "name": "python3"
  },
  "language_info": {
   "codemirror_mode": {
    "name": "ipython",
    "version": 3
   },
   "file_extension": ".py",
   "mimetype": "text/x-python",
   "name": "python",
   "nbconvert_exporter": "python",
   "pygments_lexer": "ipython3",
   "version": "3.10.14"
  }
 },
 "nbformat": 4,
 "nbformat_minor": 2
}
